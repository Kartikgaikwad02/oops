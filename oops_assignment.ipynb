{
  "nbformat": 4,
  "nbformat_minor": 0,
  "metadata": {
    "colab": {
      "provenance": []
    },
    "kernelspec": {
      "name": "python3",
      "display_name": "Python 3"
    },
    "language_info": {
      "name": "python"
    }
  },
  "cells": [
    {
      "cell_type": "markdown",
      "source": [
        "**Q1. What are the  5 concept of oops ? **\n",
        "The five key concepts of Object-Oriented Programming (OOP) in Python are\n",
        "1.\tClass: A blueprint for creating objects. It defines a datatype by bundling data (attributes) and methods (functions) that operate on the data.\n",
        "2.\tObject: An instance of a class. It represents the real-world entities with properties and behaviors defined by its class.\n",
        "3.\tEncapsulation: The concept of wrapping data (attributes) and methods (functions) within a class and controlling access to them using access modifiers like private or public.\n",
        "4.\tInheritance: A mechanism where a class (child) can inherit attributes and methods from another class (parent), promoting code reusability.\n",
        "5.\tPolymorphism: The ability to define methods that act differently based on the object calling them. It allows different classes to use methods of the same name in their own ways.\n"
      ],
      "metadata": {
        "id": "c7FOTsS-U8me"
      }
    },
    {
      "cell_type": "code",
      "execution_count": null,
      "metadata": {
        "colab": {
          "base_uri": "https://localhost:8080/"
        },
        "id": "n_X-zdsOxRf6",
        "outputId": "03591197-a738-4e9a-a12f-32f2e91d1e75"
      },
      "outputs": [
        {
          "output_type": "stream",
          "name": "stdout",
          "text": [
            "Car Information: 2022 Toyota Camry\n"
          ]
        }
      ],
      "source": [
        "#Q2 .write python class for car with attributes for make ,model and year . include a method to display car information ?\n",
        "\n",
        "class Car:\n",
        "    def __init__(self, make, model, year):\n",
        "        self.make = make\n",
        "        self.model = model\n",
        "        self.year = year\n",
        "\n",
        "    def display(self):\n",
        "        print(f\"Car Information: {self.year} {self.make} {self.model}\")\n",
        "\n",
        "\n",
        "car1 = Car(\"Toyota\", \"Camry\", 2022)\n",
        "car1.display()\n"
      ]
    },
    {
      "cell_type": "markdown",
      "source": [
        "Q3. Explain difference between instance and class method ?\n",
        "1. Instance Method:\n",
        "•\tDefinition: An instance method is a method that operates on an instance of a class (i.e., an object). It automatically takes the instance (self) as its first argument.\n",
        "•\tPurpose: It can access and modify instance variables, and is called on an object of the class.\n",
        "•\tUsage: Defined using def inside the class, and requires an instance to be invoked."
      ],
      "metadata": {
        "id": "xdGo44RxV3W2"
      }
    },
    {
      "cell_type": "code",
      "source": [
        "class Car:\n",
        "    def __init__(self, make, model, year):\n",
        "        self.make = make\n",
        "        self.model = model\n",
        "        self.year = year\n",
        "\n",
        "    def display(self):\n",
        "        print(f\"Car Information: {self.year} {self.make} {self.model}\")\n",
        "\n",
        "\n",
        "car1 = Car(\"Toyota\", \"Camry\", 2022)\n",
        "car1.display()"
      ],
      "metadata": {
        "id": "2-3BozEGVyRW"
      },
      "execution_count": null,
      "outputs": []
    },
    {
      "cell_type": "markdown",
      "source": [
        "2. Class Method:\n",
        "Definition: A class method is a method that operates on the class itself, rather than an instance. It takes the class (cls) as its first argument.\n",
        "Purpose: It can access or modify class variables and is called on the class rather than on an instance. Class methods are often used for factory methods or operations that affect all instances of a class.\n",
        "Usage: Defined using @classmethod decorator, and can be called on the class itself or an instance."
      ],
      "metadata": {
        "id": "iveOLXy4V6R_"
      }
    },
    {
      "cell_type": "code",
      "source": [
        "class Car:\n",
        "    manufacturer = \"General Motors\"  # Class variable\n",
        "\n",
        "    def __init__(self, make, model):\n",
        "        self.make = make\n",
        "        self.model = model\n",
        "\n",
        "\n",
        "    def display_manufacturer(cls):  # Class method\n",
        "        print(f\"Manufacturer: {cls.manufacturer}\")\n",
        "\n",
        "Car.display_manufacturer()\n"
      ],
      "metadata": {
        "colab": {
          "base_uri": "https://localhost:8080/"
        },
        "id": "0xxpB5L_26dZ",
        "outputId": "94df284d-5858-42c4-a6d5-6472c968de38"
      },
      "execution_count": null,
      "outputs": [
        {
          "output_type": "stream",
          "name": "stdout",
          "text": [
            "Manufacturer: General Motors\n"
          ]
        }
      ]
    },
    {
      "cell_type": "markdown",
      "source": [
        "Q4 .how does python implement method overloading ?\n",
        "In Python, method overloading is not directly supported like it is in other languages such as C++ or Java. Python handles method overloading differently due to its dynamic typing system. Instead of true overloading, Python achieves similar behavior using techniques such as default arguments, variable-length arguments, and conditional logic within a single method.\n",
        "\n",
        "Techniques for Simulating Method Overloading in Python:\n",
        "1. Default Arguments:\n",
        "You can define default values for parameters, allowing the method to be called with different numbers of arguments.\n",
        "\n",
        "Example:\n",
        "class Calculator:\n",
        "    def add(self, a, b=0, c=0):\n",
        "        return a + b + c\n",
        "\n",
        "calc = Calculator()\n",
        "print(calc.add(10))        # Outputs: 10 (since b and c use default values)\n",
        "print(calc.add(10, 5))     # Outputs: 15\n",
        "print(calc.add(10, 5, 3))  # Outputs: 18\n",
        "Here, add can be called with one, two, or three arguments due to the use of default values.\n",
        "\n",
        "2. Variable-Length Arguments (*args and **kwargs):\n",
        "You can use *args (for positional arguments) and **kwargs (for keyword arguments) to accept any number of arguments in a method. This provides a way to handle method calls with varying numbers or types of parameters.\n",
        "\n",
        "Example:\n",
        "class Calculator:\n",
        "    def add(self, *args):\n",
        "        return sum(args)\n",
        "\n",
        "calc = Calculator()\n",
        "print(calc.add(10))            # Outputs: 10\n",
        "print(calc.add(10, 5))         # Outputs: 15\n",
        "print(calc.add(10, 5, 3))      # Outputs: 18\n",
        "Here, the add method can take any number of arguments, and it sums them up.\n",
        "\n",
        "3. Conditional Logic Based on Input Types:\n",
        "You can use isinstance() or type() checks within a single method to behave differently based on the types or number of arguments passed.\n",
        "\n",
        "Example:\n",
        "class Calculator:\n",
        "    def multiply(self, a, b=None):\n",
        "        if b is None:\n",
        "            return a * a  # If only one argument, return square of a\n",
        "        else:\n",
        "            return a * b  # If two arguments, return multiplication of a and b\n",
        "\n",
        "calc = Calculator()\n",
        "print(calc.multiply(5))       # Outputs: 25 (5 * 5)\n",
        "print(calc.multiply(5, 3))    # Outputs: 15 (5 * 3)\n",
        "Here, the multiply method behaves differently based on the number of arguments passed.\n",
        "\n",
        "4. Using Function Dispatching (from functools):\n",
        "You can use the @singledispatch decorator from the functools module to achieve function overloading based on argument types.\n",
        "\n",
        "Example:\n",
        "from functools import singledispatch\n",
        "\n",
        "@singledispatch\n",
        "def add(a, b):\n",
        "    raise NotImplementedError(\"Unsupported type\")\n",
        "\n",
        "@add.register(int)\n",
        "def _(a, b):\n",
        "    return a + b\n",
        "\n",
        "@add.register(str)\n",
        "def _(a, b):\n",
        "    return a + b\n",
        "\n",
        "print(add(10, 5))       # Outputs: 15 (int addition)\n",
        "print(add(\"Hello, \", \"world!\"))  # Outputs: Hello, world! (string concatenation)"
      ],
      "metadata": {
        "id": "4NNlALMFWU6O"
      }
    },
    {
      "cell_type": "code",
      "source": [],
      "metadata": {
        "id": "-i9CIsebYGwr"
      },
      "execution_count": null,
      "outputs": []
    },
    {
      "cell_type": "markdown",
      "source": [
        "**Q5. what are three types of access moifiers in python ?**\n",
        "In Python, there are three types of access modifiers that control the visibility and accessibility of class attributes and methods. These access modifiers are:\n",
        "\n",
        "1. Public Access Modifier:\n",
        "Definition: Attributes and methods that are declared without any underscores (_) before their name are considered public.\n",
        "Visibility: Public members can be accessed from both inside and outside the class.\n",
        "Usage: Most attributes and methods in Python are public by default"
      ],
      "metadata": {
        "id": "UL8pX_e2XV2L"
      }
    },
    {
      "cell_type": "code",
      "source": [
        "class Car:\n",
        "    def __init__(self, make, model):\n",
        "        self.make = make  # public attribute\n",
        "        self.model = model\n",
        "\n",
        "    def display_info(self):  # public method\n",
        "        print(f\"Car: {self.make} {self.model}\")\n",
        "\n",
        "car1 = Car(\"Toyota\", \"Camry\")\n",
        "print(car1.make)  # Public access from outside the class\n",
        "car1.display_info()  # Public method call\n"
      ],
      "metadata": {
        "colab": {
          "base_uri": "https://localhost:8080/"
        },
        "id": "TyOYM_hcXfWA",
        "outputId": "c48a722a-b8d0-4ac2-a28a-23f61a852efc"
      },
      "execution_count": 1,
      "outputs": [
        {
          "output_type": "stream",
          "name": "stdout",
          "text": [
            "Toyota\n",
            "Car: Toyota Camry\n"
          ]
        }
      ]
    },
    {
      "cell_type": "markdown",
      "source": [
        "2. Protected Access Modifier:\n",
        "Definition: Attributes and methods that have a single underscore (_) before their name are considered protected.\n",
        "Visibility: Protected members can be accessed from within the class and its subclasses but are not intended to be accessed from outside the class. However, this is a convention and not enforced by Python. It signals that the attribute or method should not be accessed directly.\n",
        "Usage: Use the protected modifier when you want the member to be available to subclasses but want to signal that it should not be accessed outside the class."
      ],
      "metadata": {
        "id": "GaUKqGHbXhcL"
      }
    },
    {
      "cell_type": "code",
      "source": [
        "class Car:\n",
        "    def __init__(self, make, model):\n",
        "        self._make = make\n",
        "        self._model = model\n",
        "\n",
        "    def _display_info(self):  # protected method\n",
        "        print(f\"Car: {self._make} {self._model}\")\n",
        "\n",
        "class ElectricCar(Car):\n",
        "    def show_info(self):\n",
        "        print(f\"ElectricCar: {self._make} {self._model}\")  # Accessing protected attribute\n",
        "\n",
        "car1 = ElectricCar(\"Tesla\", \"Model 3\")\n",
        "car1.show_info()\n",
        "print(car1._make)\n"
      ],
      "metadata": {
        "colab": {
          "base_uri": "https://localhost:8080/"
        },
        "id": "rGE0R89YXkfY",
        "outputId": "9b08a20a-f791-4e4d-8b96-efd8b7f117a2"
      },
      "execution_count": 2,
      "outputs": [
        {
          "output_type": "stream",
          "name": "stdout",
          "text": [
            "ElectricCar: Tesla Model 3\n",
            "Tesla\n"
          ]
        }
      ]
    },
    {
      "cell_type": "markdown",
      "source": [
        "3. Private Access Modifier:\n",
        "Definition: Attributes and methods that have a double underscore (__) before their name are considered private.\n",
        "Visibility: Private members are accessible only within the class in which they are defined and cannot be accessed from outside the class directly. Python enforces this by name mangling, which changes the attribute's name internally.\n",
        "Usage: Use private members when you want to restrict access completely to the class where it is defined, even for subclasses."
      ],
      "metadata": {
        "id": "jggVF-7sX1bm"
      }
    },
    {
      "cell_type": "code",
      "source": [
        "class Car:\n",
        "    def __init__(self, make, model):\n",
        "        self.__make = make  # private attribute\n",
        "        self.__model = model\n",
        "\n",
        "    def __display_info(self):  # private method\n",
        "        print(f\"Car: {self.__make} {self.__model}\")\n",
        "\n",
        "    def show_info(self):\n",
        "        self.__display_info()  # Accessing private method within the class\n",
        "\n",
        "car1 = Car(\"Toyota\", \"Camry\")\n",
        "car1.show_info()\n"
      ],
      "metadata": {
        "colab": {
          "base_uri": "https://localhost:8080/"
        },
        "id": "H-iwmwY8X7UN",
        "outputId": "7ec26b8e-349d-407b-fa4e-c4d2f9e39784"
      },
      "execution_count": 3,
      "outputs": [
        {
          "output_type": "stream",
          "name": "stdout",
          "text": [
            "Car: Toyota Camry\n"
          ]
        }
      ]
    },
    {
      "cell_type": "markdown",
      "source": [
        "**Q6 .describe 5 types of inheritance in python ?**\n",
        " Python supports different types of inheritance, which define how the classes interact. Here are the five types of inheritance in Python:\n",
        "\n",
        "1. Single Inheritance:\n",
        "Definition: In single inheritance, a child class inherits from a single parent class. The child class gets the attributes and methods of the parent class.\n",
        "Use Case: When you have a simple relationship between two classes, where one class extends or modifies the behavior of another."
      ],
      "metadata": {
        "id": "jFk6BLMSYZQf"
      }
    },
    {
      "cell_type": "code",
      "source": [
        "class Animal:\n",
        "    def speak(self):\n",
        "        print(\"Animal speaks\")\n",
        "\n",
        "class Dog(Animal):  # Dog inherits from Animal\n",
        "    def bark(self):\n",
        "        print(\"Dog barks\")\n",
        "\n",
        "dog = Dog()\n",
        "dog.speak()\n",
        "dog.bark()\n"
      ],
      "metadata": {
        "colab": {
          "base_uri": "https://localhost:8080/"
        },
        "id": "XkcKSkGGYhzG",
        "outputId": "6e65d3ed-be72-41e2-acf9-78f48ad64831"
      },
      "execution_count": 4,
      "outputs": [
        {
          "output_type": "stream",
          "name": "stdout",
          "text": [
            "Animal speaks\n",
            "Dog barks\n"
          ]
        }
      ]
    },
    {
      "cell_type": "markdown",
      "source": [
        "2. Multiple Inheritance:\n",
        "Definition: In multiple inheritance, a child class inherits from more than one parent class. This allows the child class to access attributes and methods from all parent classes.\n",
        "Use Case: Useful when a class needs to combine features from multiple classes, but it can lead to complexity, especially with the order of resolution (MRO)."
      ],
      "metadata": {
        "id": "od_x4HHlYovp"
      }
    },
    {
      "cell_type": "code",
      "source": [
        "class Animal:\n",
        "    def speak(self):\n",
        "        print(\"Animal speaks\")\n",
        "\n",
        "class Bird:\n",
        "    def fly(self):\n",
        "        print(\"Bird flies\")\n",
        "\n",
        "class Bat(Animal, Bird):  # Bat inherits from both Animal and Bird\n",
        "    pass\n",
        "\n",
        "bat = Bat()\n",
        "bat.speak()\n",
        "bat.fly()\n"
      ],
      "metadata": {
        "colab": {
          "base_uri": "https://localhost:8080/"
        },
        "id": "iQFVN7RZYprk",
        "outputId": "20665c0c-d5a3-4869-8c8b-52f35728187b"
      },
      "execution_count": 6,
      "outputs": [
        {
          "output_type": "stream",
          "name": "stdout",
          "text": [
            "Animal speaks\n",
            "Bird flies\n"
          ]
        }
      ]
    },
    {
      "cell_type": "markdown",
      "source": [
        "3. Multilevel Inheritance:\n",
        "Definition: In multilevel inheritance, a child class inherits from a parent class, and then another class inherits from that child class. This creates a chain of inheritance.\n",
        "Use Case: Useful when you want to extend the hierarchy further, with more specialization at each level."
      ],
      "metadata": {
        "id": "_ULbYXpAY0Q4"
      }
    },
    {
      "cell_type": "code",
      "source": [
        "class Animal:\n",
        "    def speak(self):\n",
        "        print(\"Animal speaks\")\n",
        "\n",
        "class Dog(Animal):  # Dog inherits from Animal\n",
        "    def bark(self):\n",
        "        print(\"Dog barks\")\n",
        "\n",
        "class Puppy(Dog):  # Puppy inherits from Dog, which inherits from Animal\n",
        "    def play(self):\n",
        "        print(\"Puppy plays\")\n",
        "\n",
        "puppy = Puppy()\n",
        "puppy.speak()\n",
        "puppy.bark()\n",
        "puppy.play()\n"
      ],
      "metadata": {
        "colab": {
          "base_uri": "https://localhost:8080/"
        },
        "id": "GriEe6e8Y3VY",
        "outputId": "4f242a1e-a830-4c42-bffb-e55aa404447b"
      },
      "execution_count": 5,
      "outputs": [
        {
          "output_type": "stream",
          "name": "stdout",
          "text": [
            "Animal speaks\n",
            "Dog barks\n",
            "Puppy plays\n"
          ]
        }
      ]
    },
    {
      "cell_type": "markdown",
      "source": [
        "**Q7. What is MRO (Method Resolution Order) in Python?**\n",
        "In Python, MRO (Method Resolution Order) is the order in which Python looks for a method or attribute in a hierarchy of classes. It is particularly relevant in the case of multiple inheritance, where a class inherits from more than one parent class. The MRO defines the sequence in which Python will search for methods or attributes in the parent classes.\n",
        "\n",
        "The MRO ensures that Python knows exactly where to look for methods, which helps avoid conflicts or ambiguity in method resolution when multiple inheritance is involved.\n",
        "\n",
        "You can retrieve the MRO of a class in Python using two methods:\n",
        "\n",
        "ClassName.__mro__: This returns a tuple of the classes in the method resolution order.\n",
        "ClassName.mro(): This returns a list of the classes in the method resolution order."
      ],
      "metadata": {
        "id": "grlNeRs5Zogo"
      }
    },
    {
      "cell_type": "code",
      "source": [
        "class A:\n",
        "    def method(self):\n",
        "        print(\"A's method\")\n",
        "\n",
        "class B(A):\n",
        "    def method(self):\n",
        "        print(\"B's method\")\n",
        "\n",
        "class C(A):\n",
        "    def method(self):\n",
        "        print(\"C's method\")\n",
        "\n",
        "class D(B, C):  # D inherits from both B and C\n",
        "    pass\n",
        "\n",
        "print(D.__mro__)\n",
        "print(D.mro())\n"
      ],
      "metadata": {
        "colab": {
          "base_uri": "https://localhost:8080/"
        },
        "id": "TjdXOZ0RZ7mc",
        "outputId": "2f01ed05-4694-457f-c44a-b90daf5ac970"
      },
      "execution_count": 7,
      "outputs": [
        {
          "output_type": "stream",
          "name": "stdout",
          "text": [
            "(<class '__main__.D'>, <class '__main__.B'>, <class '__main__.C'>, <class '__main__.A'>, <class 'object'>)\n",
            "[<class '__main__.D'>, <class '__main__.B'>, <class '__main__.C'>, <class '__main__.A'>, <class 'object'>]\n"
          ]
        }
      ]
    },
    {
      "cell_type": "markdown",
      "source": [
        "**Q8.create an abstract base class 'shape' with an abstract method 'area()' then create two subclasses 'circle' and 'rectangle' that implement the 'area()' method**"
      ],
      "metadata": {
        "id": "qXttCp_pawAB"
      }
    },
    {
      "cell_type": "code",
      "source": [
        "from abc import ABC, abstractmethod\n",
        "import math\n",
        "\n",
        "# Abstract base class\n",
        "class Shape(ABC):\n",
        "\n",
        "    def area(self):\n",
        "        pass\n",
        "\n",
        "# Subclass for Circle\n",
        "class Circle(Shape):\n",
        "    def __init__(self, radius):\n",
        "        self.radius = radius\n",
        "\n",
        "    def area(self):\n",
        "        return math.pi * self.radius ** 2\n",
        "\n",
        "# Subclass for Rectangle\n",
        "class Rectangle(Shape):\n",
        "    def __init__(self, width, height):\n",
        "        self.width = width\n",
        "        self.height = height\n",
        "\n",
        "    def area(self):\n",
        "        return self.width * self.height\n",
        "\n",
        "\n",
        "circle = Circle(5)\n",
        "rectangle = Rectangle(4, 6)\n",
        "\n",
        "print(f\"Area of the circle: {circle.area():.2f}\")\n",
        "print(f\"Area of the rectangle: {rectangle.area()}\")\n"
      ],
      "metadata": {
        "colab": {
          "base_uri": "https://localhost:8080/"
        },
        "id": "rDTqwlf8a5C9",
        "outputId": "fc31d338-628b-4473-f724-3f5230a1bcbb"
      },
      "execution_count": 8,
      "outputs": [
        {
          "output_type": "stream",
          "name": "stdout",
          "text": [
            "Area of the circle: 78.54\n",
            "Area of the rectangle: 24\n"
          ]
        }
      ]
    },
    {
      "cell_type": "markdown",
      "source": [
        "**Q9.Demonstrate polymorphism by creating a function that can work with different shape objects to calculate and print their areas ?\n",
        "Polymorphism in Python allows functions to handle objects of different types, as long as they implement a common interface (in this case, the area() method from the Shape abstract base class). Below is an example demonstrating polymorphism using a function that can calculate and print the area of any shape object (Circle, Rectangle, etc.):"
      ],
      "metadata": {
        "id": "-PChkshNcHEM"
      }
    },
    {
      "cell_type": "code",
      "source": [
        "from abc import ABC, abstractmethod\n",
        "import math\n",
        "\n",
        "# Abstract base class\n",
        "class Shape(ABC):\n",
        "\n",
        "    def area(self):\n",
        "        pass\n",
        "\n",
        "# Subclass for Circle\n",
        "class Circle(Shape):\n",
        "    def __init__(self, radius):\n",
        "        self.radius = radius\n",
        "\n",
        "    def area(self):\n",
        "        return math.pi * self.radius ** 2\n",
        "\n",
        "# Subclass for Rectangle\n",
        "class Rectangle(Shape):\n",
        "    def __init__(self, width, height):\n",
        "        self.width = width\n",
        "        self.height = height\n",
        "\n",
        "    def area(self):\n",
        "        return self.width * self.height\n",
        "\n",
        "# Subclass for Triangle\n",
        "class Triangle(Shape):\n",
        "    def __init__(self, base, height):\n",
        "        self.base = base\n",
        "        self.height = height\n",
        "\n",
        "    def area(self):\n",
        "        return 0.5 * self.base * self.height\n",
        "\n",
        "# Polymorphic function to calculate area\n",
        "def print_area(shape):\n",
        "    print(f\"The area of the {type(shape).__name__} is: {shape.area():.2f}\")\n",
        "\n",
        "# Example usage\n",
        "shapes = [Circle(5), Rectangle(4, 6), Triangle(3, 4)]\n",
        "\n",
        "for shape in shapes:\n",
        "    print_area(shape)\n"
      ],
      "metadata": {
        "colab": {
          "base_uri": "https://localhost:8080/"
        },
        "id": "PpivbOtZcm93",
        "outputId": "1820d528-84f7-4b73-8862-d72f3100f888"
      },
      "execution_count": 9,
      "outputs": [
        {
          "output_type": "stream",
          "name": "stdout",
          "text": [
            "The area of the Circle is: 78.54\n",
            "The area of the Rectangle is: 24.00\n",
            "The area of the Triangle is: 6.00\n"
          ]
        }
      ]
    },
    {
      "cell_type": "markdown",
      "source": [
        "Q 10.**Implement encapsulation in a `BankAccount` class with private attributes for `balance` and\n",
        "`account_number`. Include methods for deposit, withdrawal, and balance inquiry.**"
      ],
      "metadata": {
        "id": "qZG9Ptk8A95P"
      }
    },
    {
      "cell_type": "code",
      "source": [
        "class BankAccount:\n",
        "    def __init__(self, account_number, balance=0):\n",
        "        self.__account_number = account_number  # Private attribute\n",
        "        self.__balance = balance  # Private attribute\n",
        "\n",
        "\n",
        "    def deposit(self, amount):\n",
        "        if amount > 0:\n",
        "            self.__balance += amount\n",
        "            print(f\"Deposited: {amount:.2f}\")\n",
        "        else:\n",
        "            print(\"Deposit amount must be positive\")\n",
        "\n",
        "\n",
        "    def withdraw(self, amount):\n",
        "        if amount > 0 and amount <= self.__balance:\n",
        "            self.__balance -= amount\n",
        "            print(f\"Withdrew: {amount:.2f}\")\n",
        "        else:\n",
        "            print(\"Insufficient funds or invalid withdrawal amount\")\n",
        "\n",
        "\n",
        "    def get_balance(self):\n",
        "        return self.__balance\n",
        "\n",
        "\n",
        "    def get_account_number(self):\n",
        "        return self.__account_number\n",
        "\n",
        "\n",
        "account = BankAccount(\"123456789\", 1000)\n",
        "\n",
        "\n",
        "account.deposit(500)\n",
        "account.withdraw(200)\n",
        "print(f\"Current balance: {account.get_balance():.2f}\")\n",
        "print(f\"Account Number: {account.get_account_number()}\")\n"
      ],
      "metadata": {
        "colab": {
          "base_uri": "https://localhost:8080/"
        },
        "id": "ITJV-Ae4BIZ3",
        "outputId": "b9d65245-bec0-4dfe-bf8f-b6ebf5ccb667"
      },
      "execution_count": 1,
      "outputs": [
        {
          "output_type": "stream",
          "name": "stdout",
          "text": [
            "Deposited: 500.00\n",
            "Withdrew: 200.00\n",
            "Current balance: 1300.00\n",
            "Account Number: 123456789\n"
          ]
        }
      ]
    },
    {
      "cell_type": "markdown",
      "source": [
        "Q 11. Write a class that overrides the `__str__` and `__add__` magic methods. Wha will these methods allow\n",
        "you to do?"
      ],
      "metadata": {
        "id": "bMv7GpRkBl08"
      }
    },
    {
      "cell_type": "code",
      "source": [
        "class Book:\n",
        "    def __init__(self, title, pages):\n",
        "        self.title = title\n",
        "        self.pages = pages\n",
        "\n",
        "\n",
        "    def __str__(self):\n",
        "        return f\"Book: {self.title}, Pages: {self.pages}\"\n",
        "\n",
        "\n",
        "    def __add__(self, other):\n",
        "        if isinstance(other, Book):\n",
        "\n",
        "            return self.pages + other.pages\n",
        "        return NotImplemented\n",
        "\n",
        "\n",
        "book1 = Book(\"Python Programming\", 300)\n",
        "book2 = Book(\"Data Science with Python\", 400)\n",
        "\n",
        "\n",
        "print(book1)\n",
        "print(book2)\n",
        "\n",
        "\n",
        "total_pages = book1 + book2\n",
        "print(f\"Total pages: {total_pages}\")\n"
      ],
      "metadata": {
        "colab": {
          "base_uri": "https://localhost:8080/"
        },
        "id": "urDmydMoBt97",
        "outputId": "b60ff643-5be7-414e-d455-90b83081d028"
      },
      "execution_count": 2,
      "outputs": [
        {
          "output_type": "stream",
          "name": "stdout",
          "text": [
            "Book: Python Programming, Pages: 300\n",
            "Book: Data Science with Python, Pages: 400\n",
            "Total pages: 700\n"
          ]
        }
      ]
    },
    {
      "cell_type": "markdown",
      "source": [
        "Q 12. Create a decorator that measures and prints the execution time of a function."
      ],
      "metadata": {
        "id": "9fuZrTfmCKMs"
      }
    },
    {
      "cell_type": "code",
      "source": [
        "import time\n",
        "\n",
        "def timer_decorator(func):\n",
        "    def wrapper(*args, **kwargs):\n",
        "        start_time = time.time()\n",
        "        result = func(*args, **kwargs)\n",
        "        end_time = time.time()\n",
        "        execution_time = end_time - start_time\n",
        "        print(f\"Execution time of {func.__name__}: {execution_time:.4f} seconds\")\n",
        "        return result\n",
        "    return wrapper\n",
        "\n",
        "\n",
        "def example_function(seconds):\n",
        "    print(f\"Sleeping for {seconds} seconds...\")\n",
        "    time.sleep(seconds)\n",
        "\n",
        "example_function(2)\n"
      ],
      "metadata": {
        "colab": {
          "base_uri": "https://localhost:8080/"
        },
        "id": "zW8_ZTlaCP1T",
        "outputId": "3afae588-9d08-47a4-861f-95ff862c5118"
      },
      "execution_count": 3,
      "outputs": [
        {
          "output_type": "stream",
          "name": "stdout",
          "text": [
            "Sleeping for 2 seconds...\n",
            "Execution time of example_function: 2.0021 seconds\n"
          ]
        }
      ]
    },
    {
      "cell_type": "markdown",
      "source": [
        "Q 13. Explain the concept of the Diamond Problem in multiple inheritance. How does Python resolve it?\n"
      ],
      "metadata": {
        "id": "jTDo0CuGCbUv"
      }
    },
    {
      "cell_type": "code",
      "source": [
        "#The Diamond Problem occurs in programming languages that allow multiple inheritance,\n",
        "#where a class can inherit from more than one superclass. It refers to a scenario where a class inherits from two classes that both inherit from a common superclass,\n",
        "#creating a \"diamond-shaped\" inheritance structure.\n",
        "\n",
        "class A:\n",
        "    def greet(self):\n",
        "        print(\"Hello from A\")\n",
        "\n",
        "class B(A):\n",
        "    def greet(self):\n",
        "        print(\"Hello from B\")\n",
        "\n",
        "class C(A):\n",
        "    def greet(self):\n",
        "        print(\"Hello from C\")\n",
        "\n",
        "class D(B, C):\n",
        "    pass\n",
        "\n",
        "d = D()\n",
        "d.greet()"
      ],
      "metadata": {
        "colab": {
          "base_uri": "https://localhost:8080/"
        },
        "id": "Vy05O4dJCtPb",
        "outputId": "4e9d7ad8-787e-4e7c-ab55-a8681ac10f4b"
      },
      "execution_count": 4,
      "outputs": [
        {
          "output_type": "stream",
          "name": "stdout",
          "text": [
            "Hello from B\n"
          ]
        }
      ]
    },
    {
      "cell_type": "markdown",
      "source": [
        "Q 14.Write a class method that keeps track of the number of instances created from a class."
      ],
      "metadata": {
        "id": "L8VeRV0RDQdC"
      }
    },
    {
      "cell_type": "code",
      "source": [
        "class MyClass:\n",
        "    instance_count = 0\n",
        "\n",
        "    def __init__(self):\n",
        "        MyClass.instance_count += 1\n",
        "\n",
        "\n",
        "    def get_instance_count(cls):\n",
        "        return cls.instance_count\n",
        "\n",
        "# Example usage\n",
        "obj1 = MyClass()\n",
        "obj2 = MyClass()\n",
        "obj3 = MyClass()\n",
        "\n",
        "\n",
        "print(f\"Number of instances created: {MyClass.get_instance_count()}\")\n"
      ],
      "metadata": {
        "colab": {
          "base_uri": "https://localhost:8080/"
        },
        "id": "ThYxWLXtDTGH",
        "outputId": "411a4830-f33a-4f60-8aab-b6e1a2531c12"
      },
      "execution_count": 5,
      "outputs": [
        {
          "output_type": "stream",
          "name": "stdout",
          "text": [
            "Number of instances created: 3\n"
          ]
        }
      ]
    },
    {
      "cell_type": "markdown",
      "source": [
        "Q 15.Implement a static method in a class that checks if a given year is a leap year."
      ],
      "metadata": {
        "id": "k5CrcOU-Dckf"
      }
    },
    {
      "cell_type": "code",
      "source": [
        "class years:\n",
        "    def leap_year(year):\n",
        "        # A leap year is divisible by 4, but not by 100 unless also divisible by 400\n",
        "        if (year % 4 == 0 and year % 100 != 0) or (year % 400 == 0):\n",
        "            return True\n",
        "        else:\n",
        "            return False\n",
        "\n",
        "# Example usage\n",
        "print(years.leap_year(2020))  # Output: True (2020 is a leap year)\n",
        "print(years.leap_year(2023))  # Output: False (2023 is not a leap year)\n"
      ],
      "metadata": {
        "colab": {
          "base_uri": "https://localhost:8080/"
        },
        "id": "udmBm1DDEEcg",
        "outputId": "910a65d7-6d03-443b-ab2a-22d1e31930e7"
      },
      "execution_count": 6,
      "outputs": [
        {
          "output_type": "stream",
          "name": "stdout",
          "text": [
            "True\n",
            "False\n"
          ]
        }
      ]
    }
  ]
}